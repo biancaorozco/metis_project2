{
 "cells": [
  {
   "cell_type": "code",
   "execution_count": 1,
   "metadata": {},
   "outputs": [],
   "source": [
    "###################################\n",
    "############### MVP ###############\n",
    "###################################\n",
    "\n",
    "############### Imports ###############\n",
    "import pandas as pd\n",
    "import numpy as np\n",
    "import matplotlib.pyplot as plt \n",
    "import statsmodels.api as sm \n",
    "\n",
    "from sklearn.linear_model import LinearRegression\n",
    "from sklearn.model_selection import train_test_split\n",
    "\n",
    "%matplotlib inline"
   ]
  },
  {
   "cell_type": "code",
   "execution_count": 3,
   "metadata": {},
   "outputs": [
    {
     "name": "stdout",
     "output_type": "stream",
     "text": [
      "(1268, 10)\n"
     ]
    },
    {
     "data": {
      "text/plain": [
       "id_flight            0\n",
       "departure_time       0\n",
       "arrival_time         0\n",
       "airline              0\n",
       "duration             0\n",
       "number_stops         0\n",
       "departure_airport    0\n",
       "arrival_airport      0\n",
       "prices               0\n",
       "date                 0\n",
       "dtype: int64"
      ]
     },
     "execution_count": 3,
     "metadata": {},
     "output_type": "execute_result"
    }
   ],
   "source": [
    "############### Data ###############\n",
    "df = pd.read_csv(\"/Users/biancaorozco/Desktop/Metis/week02/project-02/airfare_project2/expedia_10_8_2019.csv\")\n",
    "print(df.shape)\n",
    "df.head(20)"
   ]
  },
  {
   "cell_type": "code",
   "execution_count": 3,
   "metadata": {},
   "outputs": [],
   "source": [
    "############### Functions ###############\n",
    "## Duration Time to Minutes\n",
    "def duration_to_min(duration):\n",
    "    time = duration.split()\n",
    "    try:\n",
    "        minutes = int(time[0])*60 + int(time[1])\n",
    "        return minutes\n",
    "    except:\n",
    "        return None\n",
    "\n",
    "## 12-hr Time to Minutes\n",
    "def time_to_min(times):\n",
    "    ztime = times.zfill(7)\n",
    "    spaced_time = ztime[:5] + ' ' + ztime[5:]\n",
    "    split = spaced_time.split()\n",
    "    try:\n",
    "        if split[2] == 'pm':\n",
    "            minutes = (int(split[0])+12)*60 + int(split[1])\n",
    "        else:\n",
    "            minutes = int(split[0])*60 + int(split[1])\n",
    "        return minutes\n",
    "    except:\n",
    "        return spaced_time"
   ]
  },
  {
   "cell_type": "code",
   "execution_count": 4,
   "metadata": {},
   "outputs": [],
   "source": [
    "############### Cleaning Data ###############\n",
    "## Replacing Number of Stops\n",
    "df['number_stops'].replace('(Nonstop)', value=int('0'), regex=True, inplace=True)\n",
    "df['number_stops'].replace('(1 stop)', value=int('1'), regex=True, inplace=True)\n",
    "df['number_stops'].replace('(2 stop)', value=int('2'), regex=True, inplace=True)\n",
    "df['number_stops'].replace('(3 stop)', value=int('3'), regex=True, inplace=True)\n",
    "            \n",
    "## Removing $ and , from Prices and Convert to Numeric\n",
    "df['prices'].replace('\\$', value='', regex=True, inplace=True)\n",
    "df['prices'].replace(',', value='', regex=True, inplace=True)\n",
    "df['prices'] = pd.to_numeric(df.prices)\n",
    "\n",
    "## Removing h & m from Duration Times\n",
    "df['duration'].replace('h', value='', regex=True, inplace=True)\n",
    "df['duration'].replace('m', value='', regex=True, inplace=True)\n",
    "\n",
    "## Replacing : with _ in Departure and Arrival Times\n",
    "df['departure_time'].replace(':', value=' ', regex=True, inplace=True)\n",
    "df['arrival_time'].replace(':', value=' ', regex=True, inplace=True)\n",
    "\n",
    "## Executing Cleaning Functions\n",
    "df['departure_time'] = df['departure_time'].apply(time_to_min)\n",
    "df['arrival_time'] = df['arrival_time'].apply(time_to_min)\n",
    "df['duration'] = df['duration'].apply(duration_to_min)"
   ]
  },
  {
   "cell_type": "code",
   "execution_count": 5,
   "metadata": {},
   "outputs": [],
   "source": [
    "############### Features ###############\n",
    "X = df.loc[:,['id_flight', 'departure_time', 'arrival_time', 'duration', 'number_stops']]\n",
    "y = df['prices']\n",
    "# Later, X: 'id_flight', 'departure_time', 'arrival_time', \n",
    "#             'airline', 'duration', 'number_stops', 'departure_airport', \n",
    "#             'arrival_airport', 'date'"
   ]
  },
  {
   "cell_type": "code",
   "execution_count": 6,
   "metadata": {},
   "outputs": [],
   "source": [
    "############### Train/Test ###############\n",
    "X_train, X_test, y_train, y_test = train_test_split(X, y, test_size=.2, random_state=12)"
   ]
  },
  {
   "cell_type": "code",
   "execution_count": 7,
   "metadata": {},
   "outputs": [
    {
     "name": "stdout",
     "output_type": "stream",
     "text": [
      "R-squared Test: 0.2821355475992101\n",
      "R-squared Train: 0.2755153810594849\n"
     ]
    }
   ],
   "source": [
    "############### Validate ###############\n",
    "lm = LinearRegression()\n",
    "lm.fit(X_train, y_train)\n",
    "pred_train = lm.predict(X_train)\n",
    "pred_test = lm.predict(X_test)\n",
    "print(\"R-squared Test:\", lm.score(X_test, y_test))\n",
    "print(\"R-squared Train:\", lm.score(X_train, y_train))"
   ]
  },
  {
   "cell_type": "code",
   "execution_count": 8,
   "metadata": {
    "scrolled": true
   },
   "outputs": [
    {
     "data": {
      "image/png": "[encoded data removed]",
      "text/plain": [
       "<Figure size 432x288 with 1 Axes>"
      ]
     },
     "metadata": {
      "needs_background": "light"
     },
     "output_type": "display_data"
    }
   ],
   "source": [
    "############### Actual vs Predicted ###############\n",
    "plt.scatter(pred_test, y_test, alpha=.2)\n",
    "plt.plot(np.linspace(0,1500,100), np.linspace(0,1500,100))\n",
    "plt.title('Actual vs. Predicted Airline Prices')\n",
    "plt.xlabel('Predicted Airline Prices')\n",
    "plt.ylabel('Actual Airline Prices');"
   ]
  },
  {
   "cell_type": "code",
   "execution_count": null,
   "metadata": {},
   "outputs": [],
   "source": []
  }
 ],
 "metadata": {
  "kernelspec": {
   "display_name": "Python 3",
   "language": "python",
   "name": "python3"
  },
  "language_info": {
   "codemirror_mode": {
    "name": "ipython",
    "version": 3
   },
   "file_extension": ".py",
   "mimetype": "text/x-python",
   "name": "python",
   "nbconvert_exporter": "python",
   "pygments_lexer": "ipython3",
   "version": "3.7.3"
  }
 },
 "nbformat": 4,
 "nbformat_minor": 2
}
