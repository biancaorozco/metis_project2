{
 "cells": [
  {
   "cell_type": "code",
   "execution_count": 1,
   "metadata": {},
   "outputs": [],
   "source": [
    "############### Imports ###############\n",
    "import pandas as pd\n",
    "import numpy as np \n",
    "import seaborn as sns \n",
    "import matplotlib.pyplot as plt \n",
    "\n",
    "from sklearn.linear_model import LinearRegression, Ridge\n",
    "from sklearn.model_selection import train_test_split, KFold, cross_val_score\n",
    "from sklearn.metrics import mean_absolute_error\n",
    "from sklearn.preprocessing import StandardScaler, PolynomialFeatures"
   ]
  },
  {
   "cell_type": "code",
   "execution_count": 2,
   "metadata": {},
   "outputs": [
    {
     "name": "stdout",
     "output_type": "stream",
     "text": [
      "(3183, 10)\n"
     ]
    },
    {
     "name": "stderr",
     "output_type": "stream",
     "text": [
      "/Users/biancaorozco/anaconda3/envs/metis/lib/python3.7/site-packages/ipykernel_launcher.py:7: FutureWarning: Sorting because non-concatenation axis is not aligned. A future version\n",
      "of pandas will change to not sort by default.\n",
      "\n",
      "To accept the future behavior, pass 'sort=False'.\n",
      "\n",
      "To retain the current behavior and silence the warning, pass 'sort=True'.\n",
      "\n",
      "  import sys\n"
     ]
    },
    {
     "data": {
      "text/html": [
       "<div>\n",
       "<style scoped>\n",
       "    .dataframe tbody tr th:only-of-type {\n",
       "        vertical-align: middle;\n",
       "    }\n",
       "\n",
       "    .dataframe tbody tr th {\n",
       "        vertical-align: top;\n",
       "    }\n",
       "\n",
       "    .dataframe thead th {\n",
       "        text-align: right;\n",
       "    }\n",
       "</style>\n",
       "<table border=\"1\" class=\"dataframe\">\n",
       "  <thead>\n",
       "    <tr style=\"text-align: right;\">\n",
       "      <th></th>\n",
       "      <th>airline</th>\n",
       "      <th>arrival_airport</th>\n",
       "      <th>arrival_time</th>\n",
       "      <th>date</th>\n",
       "      <th>departure_airport</th>\n",
       "      <th>departure_time</th>\n",
       "      <th>duration</th>\n",
       "      <th>id_flight</th>\n",
       "      <th>number_stops</th>\n",
       "      <th>prices</th>\n",
       "    </tr>\n",
       "  </thead>\n",
       "  <tbody>\n",
       "    <tr>\n",
       "      <td>638</td>\n",
       "      <td>Delta</td>\n",
       "      <td>Dallas DFW</td>\n",
       "      <td>5:30pm</td>\n",
       "      <td>10/8/19</td>\n",
       "      <td>San Francisco SFO</td>\n",
       "      <td>11:52pm</td>\n",
       "      <td>5h 6m</td>\n",
       "      <td>79.0</td>\n",
       "      <td>(1 stop)</td>\n",
       "      <td>$362</td>\n",
       "    </tr>\n",
       "    <tr>\n",
       "      <td>804</td>\n",
       "      <td>American Airlines</td>\n",
       "      <td>Los Angeles LAX</td>\n",
       "      <td>6:00pm</td>\n",
       "      <td>10/9/2019</td>\n",
       "      <td>Atlanta ATL</td>\n",
       "      <td>2:24pm</td>\n",
       "      <td>6h 36m</td>\n",
       "      <td>15.0</td>\n",
       "      <td>(1 stop)</td>\n",
       "      <td>$500</td>\n",
       "    </tr>\n",
       "    <tr>\n",
       "      <td>631</td>\n",
       "      <td>American Airlines</td>\n",
       "      <td>Los Angeles LAX</td>\n",
       "      <td>3:24pm</td>\n",
       "      <td>10/10/2019</td>\n",
       "      <td>Dallas DFW</td>\n",
       "      <td>10:40am</td>\n",
       "      <td>6h 44m</td>\n",
       "      <td>43.0</td>\n",
       "      <td>(1 stop)</td>\n",
       "      <td>$297</td>\n",
       "    </tr>\n",
       "    <tr>\n",
       "      <td>216</td>\n",
       "      <td>Delta</td>\n",
       "      <td>Dallas DFW</td>\n",
       "      <td>6:17pm</td>\n",
       "      <td>10/8/19</td>\n",
       "      <td>Chicago ORD</td>\n",
       "      <td>1:05pm</td>\n",
       "      <td>5h 12m</td>\n",
       "      <td>61.0</td>\n",
       "      <td>(1 stop)</td>\n",
       "      <td>$407</td>\n",
       "    </tr>\n",
       "    <tr>\n",
       "      <td>674</td>\n",
       "      <td>American Airlines</td>\n",
       "      <td>Chicago ORD</td>\n",
       "      <td>7:36pm</td>\n",
       "      <td>10/9/2019</td>\n",
       "      <td>Atlanta ATL</td>\n",
       "      <td>1:54pm</td>\n",
       "      <td>6h 42m</td>\n",
       "      <td>23.0</td>\n",
       "      <td>(1 stop)</td>\n",
       "      <td>$291</td>\n",
       "    </tr>\n",
       "    <tr>\n",
       "      <td>470</td>\n",
       "      <td>United</td>\n",
       "      <td>Los Angeles LAX</td>\n",
       "      <td>11:59pm</td>\n",
       "      <td>10/9/2019</td>\n",
       "      <td>Denver DEN</td>\n",
       "      <td>8:39pm</td>\n",
       "      <td>2h 20m</td>\n",
       "      <td>2.0</td>\n",
       "      <td>(Nonstop)</td>\n",
       "      <td>$414</td>\n",
       "    </tr>\n",
       "    <tr>\n",
       "      <td>651</td>\n",
       "      <td>Spirit Airlines</td>\n",
       "      <td>Chicago ORD</td>\n",
       "      <td>9:05pm</td>\n",
       "      <td>10/9/2019</td>\n",
       "      <td>Atlanta ATL</td>\n",
       "      <td>4:11pm</td>\n",
       "      <td>5h 54m</td>\n",
       "      <td>0.0</td>\n",
       "      <td>(1 stop)</td>\n",
       "      <td>$216</td>\n",
       "    </tr>\n",
       "    <tr>\n",
       "      <td>940</td>\n",
       "      <td>Delta</td>\n",
       "      <td>Chicago ORD</td>\n",
       "      <td>9:44pm</td>\n",
       "      <td>10/8/19</td>\n",
       "      <td>Seattle SEA</td>\n",
       "      <td>2:25pm</td>\n",
       "      <td>5h 19m</td>\n",
       "      <td>75.0</td>\n",
       "      <td>(1 stop)</td>\n",
       "      <td>$466</td>\n",
       "    </tr>\n",
       "    <tr>\n",
       "      <td>135</td>\n",
       "      <td>United</td>\n",
       "      <td>Dallas DFW</td>\n",
       "      <td>4:27pm</td>\n",
       "      <td>10/9/2019</td>\n",
       "      <td>Chicago ORD</td>\n",
       "      <td>9:20am</td>\n",
       "      <td>8h 7m</td>\n",
       "      <td>23.0</td>\n",
       "      <td>(1 stop)</td>\n",
       "      <td>$408</td>\n",
       "    </tr>\n",
       "    <tr>\n",
       "      <td>621</td>\n",
       "      <td>American Airlines</td>\n",
       "      <td>Los Angeles LAX</td>\n",
       "      <td>9:26pm</td>\n",
       "      <td>10/10/2019</td>\n",
       "      <td>Dallas DFW</td>\n",
       "      <td>5:38pm</td>\n",
       "      <td>5h 48m</td>\n",
       "      <td>33.0</td>\n",
       "      <td>(1 stop)</td>\n",
       "      <td>$297</td>\n",
       "    </tr>\n",
       "  </tbody>\n",
       "</table>\n",
       "</div>"
      ],
      "text/plain": [
       "               airline  arrival_airport arrival_time        date  \\\n",
       "638              Delta       Dallas DFW       5:30pm     10/8/19   \n",
       "804  American Airlines  Los Angeles LAX       6:00pm   10/9/2019   \n",
       "631  American Airlines  Los Angeles LAX       3:24pm  10/10/2019   \n",
       "216              Delta       Dallas DFW       6:17pm     10/8/19   \n",
       "674  American Airlines      Chicago ORD       7:36pm   10/9/2019   \n",
       "470             United  Los Angeles LAX      11:59pm   10/9/2019   \n",
       "651    Spirit Airlines      Chicago ORD       9:05pm   10/9/2019   \n",
       "940              Delta      Chicago ORD       9:44pm     10/8/19   \n",
       "135             United       Dallas DFW       4:27pm   10/9/2019   \n",
       "621  American Airlines  Los Angeles LAX       9:26pm  10/10/2019   \n",
       "\n",
       "     departure_airport departure_time duration  id_flight number_stops prices  \n",
       "638  San Francisco SFO        11:52pm    5h 6m       79.0     (1 stop)  $362   \n",
       "804        Atlanta ATL         2:24pm   6h 36m       15.0     (1 stop)   $500  \n",
       "631         Dallas DFW        10:40am   6h 44m       43.0     (1 stop)   $297  \n",
       "216        Chicago ORD         1:05pm   5h 12m       61.0     (1 stop)  $407   \n",
       "674        Atlanta ATL         1:54pm   6h 42m       23.0     (1 stop)   $291  \n",
       "470         Denver DEN         8:39pm   2h 20m        2.0    (Nonstop)   $414  \n",
       "651        Atlanta ATL         4:11pm   5h 54m        0.0     (1 stop)   $216  \n",
       "940        Seattle SEA         2:25pm   5h 19m       75.0     (1 stop)  $466   \n",
       "135        Chicago ORD         9:20am    8h 7m       23.0     (1 stop)   $408  \n",
       "621         Dallas DFW         5:38pm   5h 48m       33.0     (1 stop)   $297  "
      ]
     },
     "execution_count": 2,
     "metadata": {},
     "output_type": "execute_result"
    }
   ],
   "source": [
    "############### Data ###############\n",
    "df1 = pd.read_csv(\"/Users/biancaorozco/Desktop/Metis/week02/project-02/airfare_project2/data/expedia_10_8_2019.csv\")\n",
    "df2 = pd.read_csv(\"/Users/biancaorozco/Desktop/Metis/week02/project-02/airfare_project2/data/expedia_10_9_2019.csv\")\n",
    "df3 = pd.read_csv(\"/Users/biancaorozco/Desktop/Metis/week02/project-02/airfare_project2/data/expedia_10_10_2019.csv\")\n",
    "\n",
    "frames = [df1, df2, df3]\n",
    "na_df = pd.concat(frames)\n",
    "print(na_df.shape)\n",
    "na_df.sample(10, random_state=50)"
   ]
  },
  {
   "cell_type": "code",
   "execution_count": 3,
   "metadata": {},
   "outputs": [],
   "source": [
    "############### Functions ###############\n",
    "## Duration Time to Minutes\n",
    "def duration_to_min(duration):\n",
    "    time = duration.split()\n",
    "    try:\n",
    "        minutes = int(time[0])*60 + int(time[1])\n",
    "        return minutes\n",
    "    except:\n",
    "        return None\n",
    "\n",
    "## 12-hr Time to Minutes\n",
    "def time_to_min(times):\n",
    "    ztime = times.zfill(7)\n",
    "    spaced_time = ztime[:5] + ' ' + ztime[5:]\n",
    "    split = spaced_time.split()\n",
    "    try:\n",
    "        if split[2] == 'pm':\n",
    "            minutes = (int(split[0])+12)*60 + int(split[1])\n",
    "        else:\n",
    "            minutes = int(split[0])*60 + int(split[1])\n",
    "        return minutes\n",
    "    except:\n",
    "        return spaced_time"
   ]
  },
  {
   "cell_type": "code",
   "execution_count": 4,
   "metadata": {},
   "outputs": [
    {
     "data": {
      "text/plain": [
       "airline              0\n",
       "arrival_airport      0\n",
       "arrival_time         0\n",
       "date                 0\n",
       "departure_airport    0\n",
       "departure_time       0\n",
       "duration             0\n",
       "id_flight            0\n",
       "number_stops         0\n",
       "prices               0\n",
       "dtype: int64"
      ]
     },
     "execution_count": 4,
     "metadata": {},
     "output_type": "execute_result"
    }
   ],
   "source": [
    "############### Cleaning Data ###############\n",
    "## Dropping rows with NaNs\n",
    "na_df.isna().sum()\n",
    "df = na_df.dropna()\n",
    "df.isna().sum()"
   ]
  },
  {
   "cell_type": "code",
   "execution_count": 5,
   "metadata": {
    "scrolled": true
   },
   "outputs": [
    {
     "name": "stderr",
     "output_type": "stream",
     "text": [
      "/Users/biancaorozco/anaconda3/envs/metis/lib/python3.7/site-packages/ipykernel_launcher.py:2: SettingWithCopyWarning: \n",
      "A value is trying to be set on a copy of a slice from a DataFrame.\n",
      "Try using .loc[row_indexer,col_indexer] = value instead\n",
      "\n",
      "See the caveats in the documentation: http://pandas.pydata.org/pandas-docs/stable/user_guide/indexing.html#returning-a-view-versus-a-copy\n",
      "  \n",
      "/Users/biancaorozco/anaconda3/envs/metis/lib/python3.7/site-packages/pandas/core/generic.py:6786: SettingWithCopyWarning: \n",
      "A value is trying to be set on a copy of a slice from a DataFrame\n",
      "\n",
      "See the caveats in the documentation: http://pandas.pydata.org/pandas-docs/stable/user_guide/indexing.html#returning-a-view-versus-a-copy\n",
      "  self._update_inplace(new_data)\n",
      "/Users/biancaorozco/anaconda3/envs/metis/lib/python3.7/site-packages/ipykernel_launcher.py:7: SettingWithCopyWarning: \n",
      "A value is trying to be set on a copy of a slice from a DataFrame.\n",
      "Try using .loc[row_indexer,col_indexer] = value instead\n",
      "\n",
      "See the caveats in the documentation: http://pandas.pydata.org/pandas-docs/stable/user_guide/indexing.html#returning-a-view-versus-a-copy\n",
      "  import sys\n",
      "/Users/biancaorozco/anaconda3/envs/metis/lib/python3.7/site-packages/ipykernel_launcher.py:18: SettingWithCopyWarning: \n",
      "A value is trying to be set on a copy of a slice from a DataFrame.\n",
      "Try using .loc[row_indexer,col_indexer] = value instead\n",
      "\n",
      "See the caveats in the documentation: http://pandas.pydata.org/pandas-docs/stable/user_guide/indexing.html#returning-a-view-versus-a-copy\n",
      "/Users/biancaorozco/anaconda3/envs/metis/lib/python3.7/site-packages/ipykernel_launcher.py:19: SettingWithCopyWarning: \n",
      "A value is trying to be set on a copy of a slice from a DataFrame.\n",
      "Try using .loc[row_indexer,col_indexer] = value instead\n",
      "\n",
      "See the caveats in the documentation: http://pandas.pydata.org/pandas-docs/stable/user_guide/indexing.html#returning-a-view-versus-a-copy\n",
      "/Users/biancaorozco/anaconda3/envs/metis/lib/python3.7/site-packages/ipykernel_launcher.py:20: SettingWithCopyWarning: \n",
      "A value is trying to be set on a copy of a slice from a DataFrame.\n",
      "Try using .loc[row_indexer,col_indexer] = value instead\n",
      "\n",
      "See the caveats in the documentation: http://pandas.pydata.org/pandas-docs/stable/user_guide/indexing.html#returning-a-view-versus-a-copy\n"
     ]
    }
   ],
   "source": [
    "## Converting Flight ID to Integers\n",
    "df['id_flight'] = pd.to_numeric(df.id_flight, downcast='signed')\n",
    "\n",
    "## Removing $ and , from Prices and Convert to Numeric\n",
    "df['prices'].replace('\\$', value='', regex=True, inplace=True)\n",
    "df['prices'].replace(',', value='', regex=True, inplace=True)\n",
    "df['prices'] = pd.to_numeric(df.prices)\n",
    "\n",
    "## Removing h & m from Duration Times\n",
    "df['duration'].replace('h', value='', regex=True, inplace=True)\n",
    "df['duration'].replace('m', value='', regex=True, inplace=True)\n",
    "\n",
    "## Replacing : with _ in Departure and Arrival Times\n",
    "df['departure_time'].replace(':', value=' ', regex=True, inplace=True)\n",
    "df['arrival_time'].replace(':', value=' ', regex=True, inplace=True)\n",
    "\n",
    "## Executing Cleaning Functions\n",
    "df['departure_time'] = df['departure_time'].apply(time_to_min)\n",
    "df['arrival_time'] = df['arrival_time'].apply(time_to_min)\n",
    "df['duration'] = df['duration'].apply(duration_to_min)"
   ]
  },
  {
   "cell_type": "code",
   "execution_count": 11,
   "metadata": {
    "scrolled": true
   },
   "outputs": [
    {
     "data": {
      "image/png": "[encoded data removed]",
      "text/plain": [
       "<Figure size 432x288 with 1 Axes>"
      ]
     },
     "metadata": {
      "needs_background": "light"
     },
     "output_type": "display_data"
    }
   ],
   "source": [
    "############### Features ###############\n",
    "X = df.loc[:,['departure_time', 'arrival_time', 'airline', 'duration', 'number_stops', 'departure_airport', 'arrival_airport', 'date']]\n",
    "y = df['prices']\n",
    "\n",
    "## Prices are skewed left so take log to transform into a Gaussian Dist.\n",
    "plt.hist(y);"
   ]
  },
  {
   "cell_type": "code",
   "execution_count": 12,
   "metadata": {},
   "outputs": [
    {
     "data": {
      "image/png": "[encoded data removed]",
      "text/plain": [
       "<Figure size 432x288 with 1 Axes>"
      ]
     },
     "metadata": {
      "needs_background": "light"
     },
     "output_type": "display_data"
    }
   ],
   "source": [
    "log_y = np.log(y)\n",
    "plt.hist(log_y);"
   ]
  },
  {
   "cell_type": "code",
   "execution_count": 13,
   "metadata": {
    "scrolled": true
   },
   "outputs": [
    {
     "name": "stdout",
     "output_type": "stream",
     "text": [
      "10 airlines\n",
      "8 departure airports\n",
      "7 arrival airports\n",
      "4 number of stops\n",
      "\n",
      "<class 'pandas.core.frame.DataFrame'>\n",
      "Int64Index: 3064 entries, 0 to 897\n",
      "Data columns (total 35 columns):\n",
      "departure_time                         3064 non-null int64\n",
      "arrival_time                           3064 non-null int64\n",
      "duration                               3064 non-null int64\n",
      "airline_Alaska Airlines                3064 non-null uint8\n",
      "airline_American Airlines              3064 non-null uint8\n",
      "airline_Boutique Air                   3064 non-null uint8\n",
      "airline_Delta                          3064 non-null uint8\n",
      "airline_Frontier Airlines              3064 non-null uint8\n",
      "airline_JetBlue Airways                3064 non-null uint8\n",
      "airline_Multiple Airlines              3064 non-null uint8\n",
      "airline_Spirit Airlines                3064 non-null uint8\n",
      "airline_Sun Country Airlines           3064 non-null uint8\n",
      "airline_United                         3064 non-null uint8\n",
      "number_stops_(1 stop)                  3064 non-null uint8\n",
      "number_stops_(2 stops)                 3064 non-null uint8\n",
      "number_stops_(3 stops)                 3064 non-null uint8\n",
      "number_stops_(Nonstop)                 3064 non-null uint8\n",
      "departure_airport_Atlanta ATL          3064 non-null uint8\n",
      "departure_airport_Chicago ORD          3064 non-null uint8\n",
      "departure_airport_Dallas DFW           3064 non-null uint8\n",
      "departure_airport_Denver DEN           3064 non-null uint8\n",
      "departure_airport_Los Angeles LAX      3064 non-null uint8\n",
      "departure_airport_New York JFK         3064 non-null uint8\n",
      "departure_airport_San Francisco SFO    3064 non-null uint8\n",
      "departure_airport_Seattle SEA          3064 non-null uint8\n",
      "arrival_airport_Chicago ORD            3064 non-null uint8\n",
      "arrival_airport_Dallas DFW             3064 non-null uint8\n",
      "arrival_airport_Denver DEN             3064 non-null uint8\n",
      "arrival_airport_Los Angeles LAX        3064 non-null uint8\n",
      "arrival_airport_New York JFK           3064 non-null uint8\n",
      "arrival_airport_San Francisco SFO      3064 non-null uint8\n",
      "arrival_airport_Seattle SEA            3064 non-null uint8\n",
      "date_10/10/2019                        3064 non-null uint8\n",
      "date_10/8/19                           3064 non-null uint8\n",
      "date_10/9/2019                         3064 non-null uint8\n",
      "dtypes: int64(3), uint8(32)\n",
      "memory usage: 191.5 KB\n"
     ]
    }
   ],
   "source": [
    "############### 2.Dummy Variables ###############\n",
    "## Dummy Variables for Airlines, Departure Airport, Arrival Airport, and Date\n",
    "print(X['airline'].nunique(), 'airlines') # 10 airlines\n",
    "print(X['departure_airport'].nunique(), 'departure airports')\n",
    "print(X['arrival_airport'].nunique(), 'arrival airports')\n",
    "print(X['number_stops'].nunique(), 'number of stops\\n')\n",
    "X = pd.get_dummies(X)\n",
    "X.info()"
   ]
  },
  {
   "cell_type": "code",
   "execution_count": 18,
   "metadata": {
    "scrolled": true
   },
   "outputs": [],
   "source": [
    "############### 3.Split Data ###############\n",
    "## Splitting Train, Validate, Test Rows\n",
    "X, X_test, log_y, y_test = train_test_split(X, log_y, test_size=.2, random_state=20)\n",
    "X_train, X_val, y_train, y_val = train_test_split(X, log_y, test_size=.25, random_state=20)"
   ]
  },
  {
   "cell_type": "code",
   "execution_count": 19,
   "metadata": {},
   "outputs": [],
   "source": [
    "############### 4.Scaling & Modeling ###############\n",
    "# Model 1\n",
    "lm = LinearRegression()\n",
    "\n",
    "# Feature Scaling\n",
    "scaler = StandardScaler()\n",
    "\n",
    "X_train_scaled = scaler.fit_transform(X_train.values)\n",
    "X_val_scaled = scaler.transform(X_val.values)\n",
    "X_test_scaled = scaler.transform(X_test.values)\n",
    "\n",
    "# Model 2\n",
    "lm_reg = Ridge(alpha=1)\n",
    "\n",
    "# Feature Transform\n",
    "poly = PolynomialFeatures(degree=2) \n",
    "\n",
    "X_train_poly = poly.fit_transform(X_train.values)\n",
    "X_val_poly = poly.transform(X_val.values)\n",
    "X_test_poly = poly.transform(X_test.values)\n",
    "\n",
    "# Model 3\n",
    "lm_poly = LinearRegression()"
   ]
  },
  {
   "cell_type": "code",
   "execution_count": 20,
   "metadata": {
    "scrolled": false
   },
   "outputs": [
    {
     "name": "stdout",
     "output_type": "stream",
     "text": [
      "Linear Regression val R^2: 0.433\n",
      "Ridge Regression val R^2: 0.433\n",
      "Degree 2 polynomial regression val R^2: -13482287.374\n"
     ]
    }
   ],
   "source": [
    "############### 5.Choose Model ###############\n",
    "lm.fit(X_train, y_train)\n",
    "print(f'Linear Regression val R^2: {lm.score(X_val, y_val):.3f}')\n",
    "\n",
    "lm_reg.fit(X_train_scaled, y_train)\n",
    "print(f'Ridge Regression val R^2: {lm_reg.score(X_val_scaled, y_val):.3f}')\n",
    "\n",
    "lm_poly.fit(X_train_poly, y_train)\n",
    "print(f'Degree 2 polynomial regression val R^2: {lm_poly.score(X_val_poly, y_val):.3f}')\n",
    "\n",
    "## Choosing Linear Regression Model"
   ]
  },
  {
   "cell_type": "code",
   "execution_count": 40,
   "metadata": {},
   "outputs": [
    {
     "name": "stdout",
     "output_type": "stream",
     "text": [
      "Linear Regression test R^2: 0.548\n"
     ]
    }
   ],
   "source": [
    "############### 6.Test ###############\n",
    "lm.fit(X,log_y)\n",
    "print(f'Linear Regression test R^2: {lm.score(X_test, y_test):.3f}')"
   ]
  },
  {
   "cell_type": "code",
   "execution_count": 41,
   "metadata": {},
   "outputs": [],
   "source": [
    "############### Predict ###############\n",
    "pred_train = lm.predict(X_train)\n",
    "pred_test = lm.predict(X_test)"
   ]
  },
  {
   "cell_type": "code",
   "execution_count": 46,
   "metadata": {},
   "outputs": [
    {
     "name": "stdout",
     "output_type": "stream",
     "text": [
      "(491, 1)\n",
      "(491, 1)\n"
     ]
    },
    {
     "data": {
      "text/plain": [
       "116.73400070764573"
      ]
     },
     "execution_count": 46,
     "metadata": {},
     "output_type": "execute_result"
    }
   ],
   "source": [
    "############### Mean Absolute Error ###############\n",
    "## Create Predicted y and Actual y Series with equal shape\n",
    "y_pred = pd.DataFrame(np.exp(pred_test))\n",
    "print(y_pred.shape)\n",
    "\n",
    "## Randomly sample 613 observations from original dataset\n",
    "y_actual = pd.DataFrame(y.sample(y_pred.shape[0], random_state=100))\n",
    "print(y_actual.shape)\n",
    "\n",
    "mean_absolute_error(y_actual, y_pred)\n",
    "# On average, my model was off by approximately $\n",
    "\n",
    "## Remember from EDA of Prices\n",
    "# count    3064\n",
    "# mean     $390.92\n",
    "# std      $125.66\n",
    "# min        $88\n",
    "# 25%       $312\n",
    "# 50%       $379\n",
    "# 75%       $433\n",
    "# max      $1486"
   ]
  },
  {
   "cell_type": "code",
   "execution_count": 70,
   "metadata": {},
   "outputs": [
    {
     "data": {
      "image/png": "[encoded data removed]",
      "text/plain": [
       "<Figure size 432x288 with 1 Axes>"
      ]
     },
     "metadata": {
      "needs_background": "light"
     },
     "output_type": "display_data"
    }
   ],
   "source": [
    "############### Actual vs Predicted ###############\n",
    "plt.scatter(pred_test, y_test, alpha=.2)\n",
    "# plt.plot(np.linspace(4,8,1), np.linspace(4,8,1))\n",
    "plt.title('Actual vs. Predicted Airline Prices')\n",
    "plt.xlabel('Predicted Airline Prices')\n",
    "plt.ylabel('Actual Airline Prices');"
   ]
  },
  {
   "cell_type": "code",
   "execution_count": 73,
   "metadata": {},
   "outputs": [
    {
     "data": {
      "text/plain": [
       "(491, 1)"
      ]
     },
     "execution_count": 73,
     "metadata": {},
     "output_type": "execute_result"
    }
   ],
   "source": [
    "y_pred = pd.DataFrame(np.exp(pred_test))\n",
    "y_pred.shape"
   ]
  },
  {
   "cell_type": "code",
   "execution_count": 75,
   "metadata": {},
   "outputs": [
    {
     "name": "stdout",
     "output_type": "stream",
     "text": [
      "count    3064.000000\n",
      "mean      390.919060\n",
      "std       125.656141\n",
      "min        88.000000\n",
      "25%       312.000000\n",
      "50%       379.000000\n",
      "75%       433.000000\n",
      "max      1486.000000\n",
      "Name: prices, dtype: float64\n"
     ]
    },
    {
     "data": {
      "image/png": "[encoded data removed]",
      "text/plain": [
       "<Figure size 432x288 with 1 Axes>"
      ]
     },
     "metadata": {
      "needs_background": "light"
     },
     "output_type": "display_data"
    }
   ],
   "source": [
    "plt.hist(df['prices'])\n",
    "print(df['prices'].describe())"
   ]
  },
  {
   "cell_type": "code",
   "execution_count": null,
   "metadata": {},
   "outputs": [],
   "source": []
  }
 ],
 "metadata": {
  "kernelspec": {
   "display_name": "Python [conda env:metis] *",
   "language": "python",
   "name": "conda-env-metis-py"
  },
  "language_info": {
   "codemirror_mode": {
    "name": "ipython",
    "version": 3
   },
   "file_extension": ".py",
   "mimetype": "text/x-python",
   "name": "python",
   "nbconvert_exporter": "python",
   "pygments_lexer": "ipython3",
   "version": "3.7.3"
  }
 },
 "nbformat": 4,
 "nbformat_minor": 2
}
