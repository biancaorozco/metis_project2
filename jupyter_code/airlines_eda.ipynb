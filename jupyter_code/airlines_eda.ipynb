{
 "cells": [
  {
   "cell_type": "code",
   "execution_count": null,
   "metadata": {},
   "outputs": [],
   "source": [
    "############### Imports ###############\n",
    "import pandas as pd\n",
    "import numpy as np \n",
    "import seaborn as sns \n",
    "import matplotlib.pyplot as plt "
   ]
  },
  {
   "cell_type": "code",
   "execution_count": null,
   "metadata": {},
   "outputs": [],
   "source": [
    "############### Data ###############\n",
    "df1 = pd.read_csv(\"/Users/biancaorozco/Desktop/Metis/week02/project-02/airfare_project2/data/expedia_10_8_2019.csv\")\n",
    "df2 = pd.read_csv(\"/Users/biancaorozco/Desktop/Metis/week02/project-02/airfare_project2/data/expedia_10_9_2019.csv\")\n",
    "df3 = pd.read_csv(\"/Users/biancaorozco/Desktop/Metis/week02/project-02/airfare_project2/data/expedia_10_10_2019.csv\")\n",
    "\n",
    "frames = [df1, df2, df3]\n",
    "na_df = pd.concat(frames)\n",
    "print(na_df.shape)\n",
    "na_df.sample(10, random_state=50)"
   ]
  },
  {
   "cell_type": "code",
   "execution_count": null,
   "metadata": {},
   "outputs": [],
   "source": [
    "############### Cleaning Data ###############\n",
    "## Dropping rows with NaNs\n",
    "na_df.isna().sum()\n",
    "df = na_df.dropna()\n",
    "df.isna().sum()\n",
    "\n",
    "## Converting Flight ID to Integers\n",
    "df['id_flight'] = pd.to_numeric(df.id_flight, downcast='signed')\n",
    "            \n",
    "## Removing $ and , from Prices and Convert to Numeric\n",
    "df['prices'].replace('\\$', value='', regex=True, inplace=True)\n",
    "df['prices'].replace(',', value='', regex=True, inplace=True)\n",
    "df['prices'] = pd.to_numeric(df.prices)\n",
    "\n",
    "## Removing h & m from Duration Times\n",
    "df['duration'].replace('h', value='', regex=True, inplace=True)\n",
    "df['duration'].replace('m', value='', regex=True, inplace=True)\n",
    "\n",
    "## Replacing : with _ in Departure and Arrival Times\n",
    "df['departure_time'].replace(':', value=' ', regex=True, inplace=True)\n",
    "df['arrival_time'].replace(':', value=' ', regex=True, inplace=True)\n",
    "\n",
    "## Executing Cleaning Functions\n",
    "df['departure_time'] = df['departure_time'].apply(time_to_min)\n",
    "df['arrival_time'] = df['arrival_time'].apply(time_to_min)\n",
    "df['duration'] = df['duration'].apply(duration_to_min)"
   ]
  },
  {
   "cell_type": "code",
   "execution_count": null,
   "metadata": {},
   "outputs": [],
   "source": [
    "############### EDA ###############\n",
    "df.info()\n",
    "df.shape "
   ]
  },
  {
   "cell_type": "code",
   "execution_count": null,
   "metadata": {},
   "outputs": [],
   "source": [
    "## Everything Compared to Everything\n",
    "sns.pairplot(df, hue='airline', diag_kind='kde');"
   ]
  },
  {
   "cell_type": "code",
   "execution_count": null,
   "metadata": {},
   "outputs": [],
   "source": [
    "## Barplot of Prices by Airline\n",
    "plt.figure(figsize=(18, 7))\n",
    "sns.barplot(x='airline', y='prices', data=df)\n",
    "plt.xlabel('Airlines')\n",
    "plt.ylabel('Prices');"
   ]
  },
  {
   "cell_type": "code",
   "execution_count": null,
   "metadata": {},
   "outputs": [],
   "source": [
    "## Barplot of Prices by Number of Stops\n",
    "plt.figure(figsize=(6, 6))\n",
    "sns.barplot(x='number_stops', y='prices', data=df)\n",
    "plt.xlabel('Number of Stops')\n",
    "plt.ylabel('Prices');"
   ]
  },
  {
   "cell_type": "code",
   "execution_count": null,
   "metadata": {},
   "outputs": [],
   "source": [
    "## Checking Flight Counts by City Pairs\n",
    "gb = df.groupby(['departure_airport', 'arrival_airport'])\n",
    "aggreg = gb.agg({'number_stops':['count']})\n",
    "aggreg"
   ]
  },
  {
   "cell_type": "code",
   "execution_count": null,
   "metadata": {},
   "outputs": [],
   "source": [
    "## Checking Distribution of Prices\n",
    "plt.hist(df['prices'])\n",
    "print(df['prices'].describe())"
   ]
  }
 ],
 "metadata": {
  "kernelspec": {
   "display_name": "Python [conda env:metis] *",
   "language": "python",
   "name": "conda-env-metis-py"
  },
  "language_info": {
   "codemirror_mode": {
    "name": "ipython",
    "version": 3
   },
   "file_extension": ".py",
   "mimetype": "text/x-python",
   "name": "python",
   "nbconvert_exporter": "python",
   "pygments_lexer": "ipython3",
   "version": "3.7.3"
  }
 },
 "nbformat": 4,
 "nbformat_minor": 2
}
